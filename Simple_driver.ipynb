{
 "cells": [
  {
   "cell_type": "code",
   "execution_count": 1,
   "metadata": {},
   "outputs": [
    {
     "name": "stderr",
     "output_type": "stream",
     "text": [
      "WARNING:kafka.consumer.group:use auto_offset_reset=latest (largest is deprecated)\n",
      "WARNING:kafka.coordinator.consumer:group_id is None: disabling auto-commit.\n"
     ]
    },
    {
     "name": "stdout",
     "output_type": "stream",
     "text": [
      "2018-05-23 17:57:03.517814 - [/home/md2k/CerebralCortex-DataAnalysis/core/feature/phone_features/phone_features.py - process - 3095] - Processing PhoneFeatures\n",
      "2018-05-23 17:57:03.525513 - [/home/md2k/CerebralCortex-DataAnalysis/core/feature/phone_features/phone_features.py - process_data - 2904] - No streams found for user ['56b4bef0-2bbb-4e2a-b434-36bfdb2f0f7e'] for feature PhoneFeatures\n"
     ]
    },
    {
     "name": "stderr",
     "output_type": "stream",
     "text": [
      "/opt/conda/lib/python3.5/site-packages/MD2K_Cerebral_Cortex-2.2.2-py3.5.egg/cerebralcortex/cerebralcortex.py:189: DeprecationWarning: PLEASE USE stream_ids KEY IN DICT OBJECT TO GET ALL STREAM IDS OF A STREAM NAME. Identifier key will be removed in CerebralCortex version 2.2.4.\n",
      "  warnings.warn(\"PLEASE USE stream_ids KEY IN DICT OBJECT TO GET ALL STREAM IDS OF A STREAM NAME. Identifier key will be removed in CerebralCortex version 2.2.4.\", DeprecationWarning)\n"
     ]
    }
   ],
   "source": [
    "from core.computefeature import ComputeFeatureBase\n",
    "from core.feature.phone_features.phone_features import PhoneFeatures\n",
    "from cerebralcortex.cerebralcortex import CerebralCortex\n",
    "from datetime import datetime\n",
    "from datetime import timedelta\n",
    "\n",
    "cc = CerebralCortex('/home/md2k/cc_configuration.yml')\n",
    "\n",
    "phone_features = PhoneFeatures(cc)\n",
    "\n",
    "userids = ['636fcc1f-8966-4e63-a9df-0cbaa6e9296c']\n",
    "\n",
    "date_format = '%Y%m%d'\n",
    "\n",
    "end_date = datetime.strptime('20171201', date_format)\n",
    "start_date = datetime.strptime('20171231', date_format)\n",
    "\n",
    "all_days = []\n",
    "while True:\n",
    "    all_days.append(start_date.strftime(date_format))\n",
    "    start_date += timedelta(days = 1)\n",
    "    if start_date > end_date : break\n",
    "\n",
    "phone_features.process(userids,all_days)\n"
   ]
  },
  {
   "cell_type": "code",
   "execution_count": null,
   "metadata": {},
   "outputs": [],
   "source": []
  },
  {
   "cell_type": "code",
   "execution_count": null,
   "metadata": {},
   "outputs": [],
   "source": []
  }
 ],
 "metadata": {
  "kernelspec": {
   "display_name": "pySpark (Spark 2.2.0)",
   "language": "python",
   "name": "pyspark"
  },
  "language_info": {
   "codemirror_mode": {
    "name": "ipython",
    "version": 3
   },
   "file_extension": ".py",
   "mimetype": "text/x-python",
   "name": "python",
   "nbconvert_exporter": "python",
   "pygments_lexer": "ipython3",
   "version": "3.5.1"
  }
 },
 "nbformat": 4,
 "nbformat_minor": 2
}
